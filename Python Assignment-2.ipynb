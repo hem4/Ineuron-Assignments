{
 "cells": [
  {
   "cell_type": "markdown",
   "metadata": {},
   "source": [
    "# Python Assignment-2"
   ]
  },
  {
   "cell_type": "code",
   "execution_count": 41,
   "metadata": {},
   "outputs": [
    {
     "name": "stdout",
     "output_type": "stream",
     "text": [
      "*\n",
      "**\n",
      "***\n",
      "****\n",
      "*****\n",
      "****\n",
      "***\n",
      "**\n",
      "*\n",
      "\n"
     ]
    }
   ],
   "source": [
    "#Program-1_Option-1\n",
    "n=5\n",
    "for i in range (1,n+1):\n",
    "    for j in range (1,i+1):\n",
    "        print('*',end='')\n",
    "    print()\n",
    "for i in range (1,n+1): \n",
    "    for p in range(n-i,0,-1):\n",
    "        print ('*',end='')\n",
    "    print()"
   ]
  },
  {
   "cell_type": "code",
   "execution_count": 42,
   "metadata": {},
   "outputs": [
    {
     "name": "stdout",
     "output_type": "stream",
     "text": [
      "*\n",
      "**\n",
      "***\n",
      "****\n",
      "*****\n",
      "****\n",
      "***\n",
      "**\n",
      "*\n"
     ]
    }
   ],
   "source": [
    "#Program-1_Option-2\n",
    "n=5\n",
    "list=[]\n",
    "list2=[]\n",
    "for i in range(1,n+1):\n",
    "    p=\"*\"*i\n",
    "    list.append(p)\n",
    "for i in range(n-1,0,-1):\n",
    "    q=\"*\"*i\n",
    "    list2.append(q)\n",
    "l=list+list2\n",
    "print('\\n'.join(l))\n",
    "    \n"
   ]
  },
  {
   "cell_type": "code",
   "execution_count": 9,
   "metadata": {},
   "outputs": [
    {
     "name": "stdout",
     "output_type": "stream",
     "text": [
      "Enter your name:Hem\n",
      "Name in reverse order is: meH\n"
     ]
    }
   ],
   "source": [
    "#Program-2\n",
    "name=input(\"Enter your name:\")\n",
    "print(\"Name in reverse order is:\",name[::-1])"
   ]
  },
  {
   "cell_type": "code",
   "execution_count": null,
   "metadata": {},
   "outputs": [],
   "source": []
  }
 ],
 "metadata": {
  "kernelspec": {
   "display_name": "Python 3",
   "language": "python",
   "name": "python3"
  },
  "language_info": {
   "codemirror_mode": {
    "name": "ipython",
    "version": 3
   },
   "file_extension": ".py",
   "mimetype": "text/x-python",
   "name": "python",
   "nbconvert_exporter": "python",
   "pygments_lexer": "ipython3",
   "version": "3.8.3"
  }
 },
 "nbformat": 4,
 "nbformat_minor": 4
}
